{
 "cells": [
  {
   "cell_type": "markdown",
   "metadata": {},
   "source": [
    "# Project 2"
   ]
  },
  {
   "cell_type": "markdown",
   "metadata": {},
   "source": [
    "\n",
    "## The tip of the iceberg or Automatic for the people"
   ]
  },
  {
   "cell_type": "markdown",
   "metadata": {},
   "source": [
    "\n",
    "## Group 1 9:\n",
    "\n",
    "- Mussa Banjai\n",
    "- Tapas Dev\n",
    "- Jason Kapka"
   ]
  },
  {
   "cell_type": "markdown",
   "metadata": {},
   "source": [
    "## Introduction\n",
    "\n",
    "\"The Tip of the Iceberg\" (or \"Automatic for the people\") project has been an impregnating experience that has equipped us with valuable knowledge, skills and insights. It has deepened our passion for scientific exploration and environmental conservation and has left us with a sense of responsibility to contribute to the preservation and understanding of Antarctica's fragile ecosystem. It has allowed us to navigate the intricate waters of scientific computation and numerical analysis in the context of Antarctica's unique challenges. In this modern technological era and the ever-evolving landscape of automation, this project stands as a testament to our commitment to harnessing the power of cutting-edge technology for the betterment of Antarctica. This project encapsulates the essence of our journey into uncharted territories, where we have tried to explore the unknown potential hidden beneath the Antarctica. \"The Tip of the Iceberg\" (or \"Automatic for the People\") is our endeavor to navigate these waters, uncovering solutions and insights by doing data analysis, logistics and oprations. Throughout the project, we have gone through into different methodologies, numerical algorithms, logistics challenges. The innovation and result of this project have led us to push the boundaries of what is possible. By this project, it is our hope that we will gain a profound understanding of the project's significance, the innovative solutions it offers, and its potential to drive positive change within Antarctica. "
   ]
  },
  {
   "cell_type": "markdown",
   "metadata": {},
   "source": [
    "## Abstract\n",
    "\n",
    "In this world, climate change and environmental preservation hold center stage, our endeavor navigates the waters of scientific exploration and innovation, with the goal of reshaping the way we understand, protect, and interact with this pristine polar landscape. \"The Tip of the Iceberg\" (or \"Automatic for the people\") project represents a comprehensive exploration of the challenges and opportunities presented by the enigmatic realm of Antarctica.\n",
    "By completing this project, we have learnt to structure and craft comprehensive reports. It helped us to share our findings and insights effectively. Besides, we have used new functions and classes, building essential skills for scientific computation in the context of Antarctica in python which will help us to do coding more efficiently in future. The uses of Python classes is demonstrated to simplify the implementation of numerical algorithms, ensuring modularity and readability in the face of Antarctica's unique demands. This project also helpful to explore the intricacies of round-off errors and truncation errors, vital considerations when conducting calculations in this challenging environment since Antarctica's extreme conditions demand precision in numerical computation."
   ]
  },
  {
   "cell_type": "markdown",
   "metadata": {},
   "source": [
    "## Exercises"
   ]
  },
  {
   "cell_type": "markdown",
   "metadata": {},
   "source": [
    "### Import"
   ]
  },
  {
   "cell_type": "code",
   "execution_count": 2,
   "metadata": {},
   "outputs": [],
   "source": [
    "import numpy as np\n",
    "import numba as nb\n",
    "import matplotlib.pyplot as plt\n",
    "import pandas as pd\n",
    "import math as m\n",
    "import rockhound as rh\n",
    "import cmocean\n",
    "import sys"
   ]
  },
  {
   "cell_type": "markdown",
   "metadata": {},
   "source": [
    "**Pressure Solver**"
   ]
  },
  {
   "cell_type": "code",
   "execution_count": 3,
   "metadata": {},
   "outputs": [],
   "source": [
    "class PressureSolver:\n",
    "    \"\"\"\n",
    "    A finite difference solver to solve pressure distribution in \n",
    "    a reservoir, logarithmic grid has been used, y = ln(r/rw) \n",
    "\n",
    "    The solver uses SI units internally, while \"practical field units\"\n",
    "    are required as input.\n",
    "\n",
    "    Input arguments:\n",
    "\n",
    "        name                                symbol      unit\n",
    "        --------------------------------------------------------------\n",
    "        Number of grid points                N          dimensionless\n",
    "        Constant time step                   dt         days\n",
    "        Well radius                          rw         ft\n",
    "        Outer reservoir boundary             re         ft\n",
    "        Height of reservoir                  h          ft\n",
    "        Absolute permeability                k          mD\n",
    "        Porosity                             phi        dimensionless\n",
    "        Fluid viscosity                      mu         mPas (cP)\n",
    "        Total (rock+fluid) compressibility   ct         1 / psi\n",
    "        Constant flow rate at well           Q          bbl / day\n",
    "        Initial reservoir pressure           pi         psi\n",
    "        -------------------------------------------------------------\n",
    "    \"\"\"\n",
    "\n",
    "    def __init__(self,\n",
    "                 N,\n",
    "                 dt,\n",
    "                 rw=0.318,\n",
    "                 re=1000.0,\n",
    "                 h=11.0,\n",
    "                 phi=0.25,\n",
    "                 mu=1.0,\n",
    "                 ct=7.8e-6,\n",
    "                 Q=1000.0,\n",
    "                 k=500,\n",
    "                 pi=4100.0):\n",
    "\n",
    "        # Unit conversion factors (input units --> SI)\n",
    "        self.ft_to_m_ = 0.3048\n",
    "        self.psi_to_pa_ = 6894.75729\n",
    "        self.day_to_sec_ = 24.*60.*60.\n",
    "        self.bbl_to_m3_ = 0.1589873\n",
    "\n",
    "        # Grid\n",
    "        self.N_ = N\n",
    "        self.rw_ = rw*self.ft_to_m_\n",
    "        self.re_ = re*self.ft_to_m_\n",
    "        self.h_ = h*self.ft_to_m_\n",
    "\n",
    "        # Rock and fluid properties\n",
    "        self.k_ = k*1e-15 / 1.01325 # from Darcy to m^2\n",
    "        self.phi_ = phi\n",
    "        self.mu_ = mu*1e-3 # from cP to Pas\n",
    "        self.ct_ = ct / self.psi_to_pa_\n",
    "\n",
    "        # Initial and boundary conditions\n",
    "        self.Q_ = Q*self.bbl_to_m3_ / self.day_to_sec_\n",
    "        self.pi_ = pi*self.psi_to_pa_\n",
    "\n",
    "        # Time control for simulation\n",
    "        self.dt_ = dt*self.day_to_sec_\n",
    "\n",
    "        # TO DO: Add more stuff below here....\n",
    "        # (grid coordinates, dy, eta, etc.)\n"
   ]
  },
  {
   "cell_type": "markdown",
   "metadata": {},
   "source": [
    "### Exercise 1"
   ]
  },
  {
   "cell_type": "markdown",
   "metadata": {},
   "source": [
    "### Exercise 2"
   ]
  },
  {
   "cell_type": "markdown",
   "metadata": {},
   "source": [
    "#### Part 1"
   ]
  },
  {
   "cell_type": "markdown",
   "metadata": {},
   "source": [
    "#### Part 2"
   ]
  },
  {
   "cell_type": "code",
   "execution_count": 5,
   "metadata": {},
   "outputs": [],
   "source": [
    "\"\"\"\n",
    "N = 4\n",
    "dt = 0.01\n",
    "\"\"\"\n",
    "ps = PressureSolver(4,0.01)"
   ]
  },
  {
   "cell_type": "markdown",
   "metadata": {},
   "source": [
    "### Exercise 3"
   ]
  },
  {
   "cell_type": "markdown",
   "metadata": {},
   "source": [
    "**Thomas Algorithm**"
   ]
  },
  {
   "cell_type": "code",
   "execution_count": null,
   "metadata": {},
   "outputs": [],
   "source": [
    "@nb.jit(nopython=True)\n",
    "def thomas_algorithm(l, d, u, r):\n",
    "    \"\"\"\n",
    "    Solves a tridiagonal linear system of equations with the Thomas-algorithm.\n",
    "\n",
    "    The code is based on pseudo-code from the following reference:\n",
    "\n",
    "        Cheney, E. W., & Kincaid, D. R.\n",
    "        Numerical mathematics and computing, 7th edition,\n",
    "        Cengage Learning, 2013.\n",
    "\n",
    "    IMPORTANT NOTES:\n",
    "        - This function modifies the contents of the input vectors l, d, u and rhs.\n",
    "        - For Numba to work properly, we must input NumPy arrays, and not lists.\n",
    "\n",
    "    :param l: A NumPy array containing the lower diagonal (l[0] is not used).\n",
    "    :param d: A NumPy array containing the main diagonal.\n",
    "    :param u: A NumPy array containing the upper diagonal (u[-1] is not used).\n",
    "    :param r: A NumPy array containing the system right-hand side vector.\n",
    "    :return: A NumPy array containing the solution vector.\n",
    "    \"\"\"\n",
    "    # Allocate memory for solution\n",
    "    solution = np.zeros_like(d)\n",
    "    n = len(solution)\n",
    "\n",
    "    # Forward elimination\n",
    "    for k in range(1, n):\n",
    "        xmult = l[k] / d[k-1]\n",
    "        d[k] = d[k] - xmult*u[k-1]\n",
    "        r[k] = r[k] - xmult*r[k-1]\n",
    "\n",
    "    # Back-substitution\n",
    "    solution[n-1] = r[n-1] / d[n-1]\n",
    "    for k in range(n-2, -1, -1):\n",
    "        solution[k] = (r[k]-u[k]*solution[k+1])/d[k]\n",
    "\n",
    "    return solution"
   ]
  },
  {
   "cell_type": "markdown",
   "metadata": {},
   "source": [
    "### Exercise 4"
   ]
  },
  {
   "cell_type": "markdown",
   "metadata": {},
   "source": [
    "#### Part 1"
   ]
  },
  {
   "cell_type": "markdown",
   "metadata": {},
   "source": [
    "#### Part 2"
   ]
  },
  {
   "cell_type": "code",
   "execution_count": 10,
   "metadata": {},
   "outputs": [
    {
     "name": "stdout",
     "output_type": "stream",
     "text": [
      "           time  well_pressure\n",
      "0      1.000000    3775.204835\n",
      "1      5.000000    3740.949470\n",
      "2     10.000000    3728.708408\n",
      "3     15.000000    3721.164836\n",
      "4     19.999999    3715.811339\n",
      "5     30.000000    3708.776561\n",
      "6     39.999998    3703.638589\n",
      "7     49.999999    3699.627128\n",
      "8     60.000000    3696.351880\n",
      "9     70.000001    3693.591952\n",
      "10    79.999999    3691.210428\n",
      "11    90.000000    3689.119996\n",
      "12    99.999996    3687.257853\n",
      "13   199.999992    3676.254980\n",
      "14   300.000000    3670.226185\n",
      "15   500.000016    3664.257292\n",
      "16   750.000000    3660.883563\n",
      "17  1000.000032    3659.345145\n",
      "18  1500.000000    3658.432856\n",
      "19  1749.999936    3658.224146\n",
      "20  2000.000064    3658.128276\n",
      "21  2499.999840    3658.071421\n",
      "22  2750.000160    3658.058367\n",
      "23  3000.000000    3658.052421\n"
     ]
    }
   ],
   "source": [
    "\"\"\"\n",
    "Read the well test data\n",
    "\"\"\"\n",
    "df = pd.read_csv(\"data/well_bhp.dat\", delimiter=\"\\t\")\n",
    "print(df)\n"
   ]
  },
  {
   "cell_type": "code",
   "execution_count": 13,
   "metadata": {},
   "outputs": [
    {
     "data": {
      "image/png": "[encoded data removed]",
      "text/plain": [
       "<Figure size 640x480 with 1 Axes>"
      ]
     },
     "metadata": {},
     "output_type": "display_data"
    }
   ],
   "source": [
    "plt.plot(df[\"time\"], df[\"well_pressure\"])\n",
    "plt.xlabel(\"Time\")\n",
    "plt.ylabel(\"Well Pressure\")\n",
    "plt.grid()"
   ]
  },
  {
   "cell_type": "markdown",
   "metadata": {},
   "source": [
    "## Reflections\n",
    "\n",
    "\"The Tip of the Iceberg\" (or \"Automatic for the people\") project has been an enriching experience that has equipped us with valuable skills and insights. It has deepened our passion for scientific exploration and environmental conservation and has left us with a sense of responsibility to contribute to the preservation and understanding of Antarctica's fragile ecosystem. It has allowed us to navigate the intricate waters of scientific computation and numerical analysis in the context of Antarctica's unique challenges. This endeavor has not only deepened our understanding of the subject matter but has also honed our problem-solving skills and expanded our technical proficiency. One of the most valuable aspects of this project has been the opportunity to develop and refine our report-writing skills. Crafting a comprehensive report that effectively communicates complex ideas is an essential skill in any scientific discipline. Through this project, we have learned to structure and present my findings in a clear and organized manner, ensuring that the significance of the work is readily apparent to others. Expanding our Python proficiency has been another highlight of this journey. Python's versatility and power as a programming language became evident as we created new functions and classes to address the unique challenges posed by Antarctica's extreme conditions. Discovering and leveraging Python libraries for scientific exploration has been an eye-opener. These skills will undoubtedly serve us well in future scientific endeavors and computational projects. Although we were struggling with the calculations for finding round-off and truncation errors in the begining but after going through the lectures as well as other solutions of the the nuances of numerical errors available in google, helped us well to explore round-off errors and truncation errors, which has been a thought-provoking experience. Antarctica's unforgiving environment demands precision in numerical computation, and we now have a deeper appreciation for the importance of managing these errors effectively in scientific research. If we can get additional data and do more data analysis about this project, use more functions precisely with good knowledge of python and finally compare each result with others then we are optimistic that the outcome will be more accurate which could be done in future.\n",
    "To conclude, this project has been a good experience for us. It was a satisfied group work. Moving forward in our academic and professional journey, we are carrying with us the lessons and experiences gained from this project, ready to face new challenges and opportunities with a greater sense of purpose and proficiency."
   ]
  },
  {
   "cell_type": "markdown",
   "metadata": {},
   "source": [
    "\n",
    "## Conclusion\n",
    "\n",
    "\"The Tip of the Iceberg\" (or \"Automatic for the people\") project has not only sharpened our problem-solving abilities and elevated our technical competence but has also fostered the art of effective communication. Crafting meticulous reports that distill intricate concepts into digestible information has become second nature, ensuring that the significance of our work shines brightly. Our exploration of Python's capabilities has been a revelation, unveiling a powerful tool for innovation and data analysis. We've harnessed Python's versatility to confront the unique challenges of Antarctica, unlocking new avenues for scientific exploration. We have gone through (\"Python Functions Tutorial in Datacamp\") as well as (\"Libraries in python lectures in geeksforgeeks\") for learning more about python which helped us a lot in this project. We used some basic syntax in numpy library and how it helps in making arrays and doing necessary calculations efficiently. We also learnt matplotlib library and its use in making useful visualizations of data for better understanding. The discovery and utilization of Python libraries tailored to our needs have widened our horizons, setting the stage for future scientific pursuits and computational endeavors. This project has helped us understanding of how computers handle numbers; its limitations in maximum and minimum values and the machine precison in calculations. Delving into the subtleties of numerical errors, especially the unforgiving precision required in Antarctica's research, has left an indelible impression. We now appreciate more than ever the importance of error management in scientific research, where the margin for imprecision is slim. To get more knowledge about numerical errors, particularly, round-off error and truncation error, we went through some lecture and tutorials available in (\"kapilcaet and web.engr\"). We also read case studies of spill risk assesments regarding the tip of the iceberg which helped us to understand the behavior of iceberg in Antarctica and risk assessments used in environmental impact statements.\n",
    "Overall, this assignment helped us in getting familiarized with the pyhton languange and understand its basic objects, such as functions and classes in making a more efficient script. Besides, it also helped us to learn numerical calculation in python environment."
   ]
  },
  {
   "cell_type": "markdown",
   "metadata": {},
   "source": [
    "## References\n",
    "\n",
    "1) Aksel Hiorth. Computational Engineering and Modeling. \n",
    "   https://github.com/ahiorth/CompEngineering, 2021.\n",
    "2) https://kapilcaet.files.wordpress.com/2015/01/unit-4-round-off-and-truncation-errors.pdf\n",
    "3) https://web.engr.oregonstate.edu/~webbky/MAE4020_5020_files/Section%204%20Roundoff%20and%20Truncation%20Error.pdf\n",
    "4) https://www.datacamp.com/tutorial/functions-python-tutorial\n",
    "5) https://www.geeksforgeeks.org/libraries-in-python/\n",
    "6) https://www.sciencedirect.com/science/article/pii/S0025326X19307611"
   ]
  }
 ],
 "metadata": {
  "kernelspec": {
   "display_name": "MOD510",
   "language": "python",
   "name": "python3"
  },
  "language_info": {
   "codemirror_mode": {
    "name": "ipython",
    "version": 3
   },
   "file_extension": ".py",
   "mimetype": "text/x-python",
   "name": "python",
   "nbconvert_exporter": "python",
   "pygments_lexer": "ipython3",
   "version": "3.11.4"
  },
  "orig_nbformat": 4
 },
 "nbformat": 4,
 "nbformat_minor": 2
}
